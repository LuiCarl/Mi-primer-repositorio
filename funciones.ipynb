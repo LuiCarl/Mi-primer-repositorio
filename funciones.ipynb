{
 "cells": [
  {
   "cell_type": "code",
   "execution_count": 31,
   "metadata": {},
   "outputs": [],
   "source": [
    "# import re\n",
    "# import unidecode\n",
    "# import nltk\n",
    "# from nltk.corpus import stopwords\n",
    "# import spacy"
   ]
  },
  {
   "cell_type": "code",
   "execution_count": 34,
   "metadata": {},
   "outputs": [],
   "source": [
    "# nlp_es = spacy.load('es_core_news_sm')\n",
    "# def clr_txt (texto):\n",
    "#     \"\"\"Función para limpiar texto\n",
    "#     Args:\n",
    "#         texto (str): Texto a limpiar\"\"\"\n",
    "#     texto = texto.lower() # Texto en minusculas\n",
    "#     texto = unidecode.unidecode(texto) # Quitamos acentos\n",
    "#     texto = re.sub(r'[^a-z0-9\\s]', '', texto) # Quitamos caracteres especiales\n",
    "#     texto = re.sub(r'[\\n\\t\\r]', '', texto) # Quitamos saltos de linea, tabulaciones y retornos\n",
    "#     texto = re.sub(r'\\s+', ' ', texto) # Quitamos espacios en blanco\n",
    "#     # # Lemmatizamos en español\n",
    "#     texto = nlp_es(texto)\n",
    "#     texto = ' '.join([word.lemma_ for word in texto]) # .join() para convertir la lista en texto\n",
    "#     texto = texto.strip() # Quitamos espacios en blanco al inicio y al final\n",
    "    \n",
    "#     return texto\n"
   ]
  },
  {
   "cell_type": "code",
   "execution_count": 35,
   "metadata": {},
   "outputs": [],
   "source": [
    "def concatenar (a, b):\n",
    "    \"\"\"\n",
    "    Esta función recibe dos parámetros y los concatena\n",
    "    los parametros deben ser de tipo string para concatenar\n",
    "    los parametros deben ser de tipo int o float para sumar\n",
    "    \"\"\"\n",
    "    resultado = a + b\n",
    "    return resultado"
   ]
  },
  {
   "cell_type": "code",
   "execution_count": 36,
   "metadata": {},
   "outputs": [],
   "source": [
    "def cuenta_a (cadena):\n",
    "    \"\"\"\n",
    "    Esta función recibe una cadena y cuenta la cantidad de letras a\n",
    "    \"\"\"\n",
    "    contador = 0\n",
    "    for letra in cadena:\n",
    "        if letra == \"a\":\n",
    "            contador += 1\n",
    "    return contador\n"
   ]
  },
  {
   "cell_type": "code",
   "execution_count": 37,
   "metadata": {},
   "outputs": [],
   "source": [
    "def cuenta_letra (cadena, letra):\n",
    "    \"\"\"\n",
    "    Esta función recibe una cadena y una letra y cuenta la cantidad de veces que aparece la letra\n",
    "    \"\"\"\n",
    "    contador = 0\n",
    "    for l in cadena:\n",
    "        if l == letra:\n",
    "            contador += 1\n",
    "    return contador"
   ]
  },
  {
   "cell_type": "code",
   "execution_count": 38,
   "metadata": {},
   "outputs": [],
   "source": [
    "def arabe_a_romano (arabe):\n",
    "    \"\"\" Función que recibe un número arabe y lo convierte a número romano \"\"\"\n",
    "\n",
    "    romanos = {1: \"I\", 4: \"IV\", 5: \"V\", 9: \"IX\", 10: \"X\", 40: \"XL\", 50: \"L\", 90: \"XC\", 100: \"C\", 400: \"CD\", 500: \"D\", 900: \"CM\", 1000: \"M\"}\n",
    "    resultado = \"\"\n",
    "    for numero in sorted(romanos.keys(), reverse=True):\n",
    "        while arabe >= numero:\n",
    "            resultado += romanos[numero]\n",
    "            arabe -= numero\n",
    "    return resultado"
   ]
  },
  {
   "cell_type": "code",
   "execution_count": 39,
   "metadata": {},
   "outputs": [],
   "source": [
    "# variable1 = \"Hola\"\n",
    "# variable2 = \"Mundo\"\n",
    "\n",
    "# variable3 = concatenar(variable2, variable1)"
   ]
  },
  {
   "cell_type": "code",
   "execution_count": 40,
   "metadata": {},
   "outputs": [],
   "source": [
    "# print(variable3)"
   ]
  },
  {
   "cell_type": "code",
   "execution_count": 41,
   "metadata": {},
   "outputs": [],
   "source": [
    "# help(concatenar)"
   ]
  }
 ],
 "metadata": {
  "kernelspec": {
   "display_name": "py11",
   "language": "python",
   "name": "python3"
  },
  "language_info": {
   "codemirror_mode": {
    "name": "ipython",
    "version": 3
   },
   "file_extension": ".py",
   "mimetype": "text/x-python",
   "name": "python",
   "nbconvert_exporter": "python",
   "pygments_lexer": "ipython3",
   "version": "3.11.2"
  }
 },
 "nbformat": 4,
 "nbformat_minor": 2
}
