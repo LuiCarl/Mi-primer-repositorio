{
 "cells": [
  {
   "attachments": {},
   "cell_type": "markdown",
   "metadata": {},
   "source": [
    "# ¿Cómo crear un repositorio?\n",
    "\n",
    "- Ya instalamos git\n",
    "\n",
    "1. Creamos cuenta en github\n",
    "2. Creamos un repositorio en la terminal con el comando `git init`\n",
    "3. Agregamos un archivo con `git add` nombre del archivo\n",
    "4. Argregamos todos los archivos con `git add .`\n",
    "5. Comentamos los cambios con `git commit -m \"Hice un cambio\"`\n",
    "6. Creamos un repositorio en github, todo estandard\n",
    "7. Autorizamos a nuestra computadora para poder subir código.\n",
    "7.1. Configuración de llaves ssh (checar la guía de github) \n",
    "7.2 Generar una nueva llave ssh con `ssh-keygen -t ed25519 -C \"your_email@example.com\"` Podemos crear una contraseña o dejarla vacía.\n",
    "7.3 Agregar la llave ssh a nuestro agente ssh con `eval \"$(ssh-agent -s)\"` y `ssh-add ~/.ssh/id_ed25519`\n",
    "7.4 Agregar tu llave ssh a tu cuenta de github (checar la guía de github) eval \"$(ssh-agent -s)\"\n",
    "7.5 ssh-add ~/.ssh/id_ed25519 \n",
    "8. Añadirla a nuestra cuenta de github\n",
    "8.1 Copiamos y pegamos el comando indicado en la guía de github clip < ~/.ssh/id_ed25519.pub Lo cual copia la llave al portapapeles\n",
    "9. Creamos una nueva llave ssh en el repositorio de github\n",
    "10. Verificamos la rama principal con `git branch -M main`\n",
    "11. Enlazamos nuestro repositorio local con el de github con `git remote add origin git@github.com:BootcampPrueba/Repositorio_Prueba.git`\n",
    "12. Verificamos que se haya enlazado con `git remote -v`\n",
    "13. Subimos nuestro código con `git push -u origin main`\n",
    "14. Bajamos nuestro código con `git pull origin main` \n",
    "15. Para clonar un repositorio usamos `git clone` y la url del repositorio"
   ]
  },
  {
   "attachments": {},
   "cell_type": "markdown",
   "metadata": {},
   "source": []
  }
 ],
 "metadata": {
  "language_info": {
   "name": "python"
  },
  "orig_nbformat": 4
 },
 "nbformat": 4,
 "nbformat_minor": 2
}
